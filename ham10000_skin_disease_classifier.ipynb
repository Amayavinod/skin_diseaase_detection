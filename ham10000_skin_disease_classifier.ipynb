{
  "nbformat": 4,
  "nbformat_minor": 0,
  "metadata": {
    "colab": {
      "name": "ham10000_skin_disease_classifier.ipynb",
      "provenance": [],
      "collapsed_sections": []
    },
    "kernelspec": {
      "name": "python3",
      "display_name": "Python 3"
    },
    "language_info": {
      "name": "python"
    },
    "accelerator": "GPU",
    "gpuClass": "standard"
  },
  "cells": [
    {
      "cell_type": "code",
      "source": [
        "from google.colab import drive\n",
        "drive.mount('/content/drive')"
      ],
      "metadata": {
        "colab": {
          "base_uri": "https://localhost:8080/"
        },
        "id": "Lyg94ijWRNWI",
        "outputId": "9adceab3-9242-4cfa-aa6f-3297d3c433d1"
      },
      "execution_count": 1,
      "outputs": [
        {
          "output_type": "stream",
          "name": "stdout",
          "text": [
            "Drive already mounted at /content/drive; to attempt to forcibly remount, call drive.mount(\"/content/drive\", force_remount=True).\n"
          ]
        }
      ]
    },
    {
      "cell_type": "code",
      "source": [
        "%cd drive/MyDrive/LeafDeseaseDetection/"
      ],
      "metadata": {
        "colab": {
          "base_uri": "https://localhost:8080/"
        },
        "id": "ELb2BY9jRY4_",
        "outputId": "c4ba8d89-0a70-4203-ef98-b87dcfb3eed0"
      },
      "execution_count": 2,
      "outputs": [
        {
          "output_type": "stream",
          "name": "stdout",
          "text": [
            "/content/drive/MyDrive/LeafDeseaseDetection\n"
          ]
        }
      ]
    },
    {
      "cell_type": "code",
      "source": [
        "!unzip skin-cancer-mnist-ham10000.zip"
      ],
      "metadata": {
        "id": "-4Cb86u_7suq"
      },
      "execution_count": null,
      "outputs": []
    },
    {
      "cell_type": "code",
      "source": [
        "import os\n",
        "import numpy as np\n",
        "from PIL import Image\n",
        "import pandas as pd\n",
        "import tensorflow as tf\n",
        "from sklearn.model_selection import train_test_split\n",
        "from tensorflow.keras.preprocessing.image import ImageDataGenerator\n",
        "from tensorflow.keras.applications.mobilenet import MobileNet\n",
        "from sklearn.metrics import classification_report\n"
      ],
      "metadata": {
        "id": "p-N4ikEz7s4Y"
      },
      "execution_count": 3,
      "outputs": []
    },
    {
      "cell_type": "code",
      "source": [
        "classes = {\n",
        "  'nv': 0, # Melanocytic nevi'\n",
        "  'mel': 1, # Melanoma'\n",
        "  'bkl': 2, # Benign keratosis-like lesions'\n",
        "  'bcc': 3, # Basal cell carcinoma'\n",
        "  'akiec': 4, # Actinic keratoses'\n",
        "  'vasc': 5, # Vascular lesions'\n",
        "  'df': 6, # Dermatofibroma\n",
        "}\n",
        "\n",
        "image_paths = {}\n",
        "\n",
        "for folder in ['HAM10000_images_part_1', 'HAM10000_images_part_2']:\n",
        "  for image in os.listdir(folder):\n",
        "    image_paths[os.path.splitext(image)[0]] = os.path.join(folder, image)\n"
      ],
      "metadata": {
        "id": "RMvZ13zNK0fI"
      },
      "execution_count": 4,
      "outputs": []
    },
    {
      "cell_type": "code",
      "source": [
        "data = pd.read_csv('HAM10000_metadata.csv')\n",
        "data = data.dropna()\n",
        "data.isnull().any().sum()\n",
        "data['class'] = data['dx'].map(classes.get)\n",
        "data = data.sort_values('class')\n",
        "data = data.reset_index()\n"
      ],
      "metadata": {
        "id": "DokdISqpK0hP"
      },
      "execution_count": 5,
      "outputs": []
    },
    {
      "cell_type": "code",
      "source": [
        "import shutil, os\n",
        "os.mkdir('ham10000')\n",
        "os.mkdir('ham10000/train')\n",
        "os.mkdir(\"ham10000/test\")\n",
        "for c in classes:\n",
        "  os.mkdir(os.path.join('ham10000/train', c))\n",
        "  os.mkdir(os.path.join('ham10000/test', c))\n",
        "\n",
        "\n",
        "for c in classes:\n",
        "  temp = data[data['dx'] == c]\n",
        "  train, test = train_test_split(temp, test_size=0.2)\n",
        "\n",
        "  for index, row in train.iterrows():\n",
        "    shutil.copy(image_paths[row['image_id']], os.path.join('ham10000/train', row['dx'], image_paths[row['image_id']].split('/')[-1]))\n",
        "  for index, row in test.iterrows():\n",
        "    shutil.copy(image_paths[row['image_id']], os.path.join('ham10000/test', row['dx'], image_paths[row['image_id']].split('/')[-1]))"
      ],
      "metadata": {
        "id": "ZzV87tQ_Wg4w"
      },
      "execution_count": 37,
      "outputs": []
    },
    {
      "cell_type": "code",
      "source": [
        "count = 0\n",
        "\n",
        "for c in classes:\n",
        "  count += len(os.listdir(f'ham10000/train/{c}'))\n",
        "  count += len(os.listdir(f'ham10000/test/{c}'))\n",
        "\n",
        "print(count, data.shape[0])"
      ],
      "metadata": {
        "colab": {
          "base_uri": "https://localhost:8080/"
        },
        "id": "anzailu-Wg8O",
        "outputId": "7516558c-6117-4b29-f7f4-eb42398dd682"
      },
      "execution_count": 6,
      "outputs": [
        {
          "output_type": "stream",
          "name": "stdout",
          "text": [
            "9958 9958\n"
          ]
        }
      ]
    },
    {
      "cell_type": "code",
      "source": [
        "!rm -r 'ham10000/train/.ipynb_checkpoints'\n",
        "!rm -r 'ham10000/test/.ipynb_checkpoints'"
      ],
      "metadata": {
        "colab": {
          "base_uri": "https://localhost:8080/"
        },
        "id": "SQVA2ETxm0F0",
        "outputId": "750d1608-2370-42bf-a1b6-43eb39ee7aed"
      },
      "execution_count": 45,
      "outputs": [
        {
          "output_type": "stream",
          "name": "stdout",
          "text": [
            "rm: cannot remove 'ham10000/train/.ipynb_checkpoints': No such file or directory\n"
          ]
        }
      ]
    },
    {
      "cell_type": "code",
      "source": [
        "train_ds = tf.keras.utils.image_dataset_from_directory(\n",
        "  'ham10000/train',\n",
        "  validation_split=0.2,\n",
        "  subset=\"training\",\n",
        "  seed=123,\n",
        "  image_size=(28, 28),\n",
        "  shuffle=True,\n",
        "  batch_size=16)"
      ],
      "metadata": {
        "colab": {
          "base_uri": "https://localhost:8080/"
        },
        "id": "wlqsy3ESmWbw",
        "outputId": "bdf8214c-0953-4592-d1ea-b71d0b917283"
      },
      "execution_count": 19,
      "outputs": [
        {
          "output_type": "stream",
          "name": "stdout",
          "text": [
            "Found 7964 files belonging to 7 classes.\n",
            "Using 6372 files for training.\n"
          ]
        }
      ]
    },
    {
      "cell_type": "code",
      "source": [
        "val_ds = tf.keras.utils.image_dataset_from_directory(\n",
        "  'ham10000/test',\n",
        "  validation_split=0.2,\n",
        "  subset=\"validation\",\n",
        "  seed=123,\n",
        "  image_size=(28, 28),\n",
        "  shuffle=True,\n",
        "  batch_size=16)"
      ],
      "metadata": {
        "colab": {
          "base_uri": "https://localhost:8080/"
        },
        "id": "vsLfLGWrmkN3",
        "outputId": "04531e5f-61d4-4904-93e9-b70087f0c956"
      },
      "execution_count": 20,
      "outputs": [
        {
          "output_type": "stream",
          "name": "stdout",
          "text": [
            "Found 1994 files belonging to 7 classes.\n",
            "Using 398 files for validation.\n"
          ]
        }
      ]
    },
    {
      "cell_type": "code",
      "source": [
        "class_names = train_ds.class_names\n",
        "print(class_names)"
      ],
      "metadata": {
        "colab": {
          "base_uri": "https://localhost:8080/"
        },
        "id": "3OCHyagOmuQ8",
        "outputId": "d43e8cfe-70dc-4ce8-f3a1-b49cc3d29903"
      },
      "execution_count": 21,
      "outputs": [
        {
          "output_type": "stream",
          "name": "stdout",
          "text": [
            "['akiec', 'bcc', 'bkl', 'df', 'mel', 'nv', 'vasc']\n"
          ]
        }
      ]
    },
    {
      "cell_type": "code",
      "source": [
        "import matplotlib.pyplot as plt\n",
        "\n",
        "plt.figure(figsize=(10, 10))\n",
        "for images, labels in train_ds.take(1):\n",
        "  for i in range(9):\n",
        "    ax = plt.subplot(3, 3, i + 1)\n",
        "    plt.imshow(images[i].numpy().astype(\"uint8\"))\n",
        "    plt.title(class_names[labels[i]])\n",
        "    plt.axis(\"off\")"
      ],
      "metadata": {
        "colab": {
          "base_uri": "https://localhost:8080/",
          "height": 591
        },
        "id": "r7DukKShmwdd",
        "outputId": "7a2231a3-b3fd-4864-bfd7-450675150469"
      },
      "execution_count": 22,
      "outputs": [
        {
          "output_type": "display_data",
          "data": {
            "text/plain": [
              "<Figure size 720x720 with 9 Axes>"
            ],
            "image/png": "[encoded data removed]"
          },
          "metadata": {
            "needs_background": "light"
          }
        }
      ]
    },
    {
      "cell_type": "code",
      "source": [
        "model = tf.keras.Sequential()\n",
        "model.add(tf.keras.layers.Conv2D(16, kernel_size = (3,3), input_shape = (28, 28, 3), activation = 'relu', padding = 'same'))\n",
        "model.add(tf.keras.layers.MaxPool2D(pool_size = (2,2)))\n",
        "\n",
        "model.add(tf.keras.layers.Conv2D(32, kernel_size = (3,3), activation = 'relu', padding = 'same'))\n",
        "model.add(tf.keras.layers.MaxPool2D(pool_size = (2,2), padding = 'same'))\n",
        "\n",
        "model.add(tf.keras.layers.Conv2D(64, kernel_size = (3,3), activation = 'relu', padding = 'same'))\n",
        "model.add(tf.keras.layers.MaxPool2D(pool_size = (2,2), padding = 'same'))\n",
        "model.add(tf.keras.layers.Conv2D(128, kernel_size = (3,3), activation = 'relu', padding = 'same'))\n",
        "model.add(tf.keras.layers.MaxPool2D(pool_size = (2,2), padding = 'same'))\n",
        "\n",
        "model.add(tf.keras.layers.Flatten())\n",
        "model.add(tf.keras.layers.Dense(64, activation = 'relu'))\n",
        "model.add(tf.keras.layers.Dense(32, activation='relu'))\n",
        "model.add(tf.keras.layers.Dense(7, activation='softmax'))"
      ],
      "metadata": {
        "id": "lQKIhBHj6Aqe"
      },
      "execution_count": 23,
      "outputs": []
    },
    {
      "cell_type": "code",
      "source": [
        "optimizer = tf.keras.optimizers.Adam(learning_rate = 0.001)\n",
        "\n",
        "model.compile(\n",
        "    loss = 'sparse_categorical_crossentropy',\n",
        "    optimizer = optimizer,\n",
        "    metrics = ['accuracy']\n",
        ")\n",
        "\n",
        "print(model.summary())"
      ],
      "metadata": {
        "id": "0Bb44Ly-6DJP",
        "colab": {
          "base_uri": "https://localhost:8080/"
        },
        "outputId": "4a4ac01b-e217-4292-e54b-fc997311b99d"
      },
      "execution_count": 24,
      "outputs": [
        {
          "output_type": "stream",
          "name": "stdout",
          "text": [
            "Model: \"sequential_2\"\n",
            "_________________________________________________________________\n",
            " Layer (type)                Output Shape              Param #   \n",
            "=================================================================\n",
            " conv2d_7 (Conv2D)           (None, 28, 28, 16)        448       \n",
            "                                                                 \n",
            " max_pooling2d_7 (MaxPooling  (None, 14, 14, 16)       0         \n",
            " 2D)                                                             \n",
            "                                                                 \n",
            " conv2d_8 (Conv2D)           (None, 14, 14, 32)        4640      \n",
            "                                                                 \n",
            " max_pooling2d_8 (MaxPooling  (None, 7, 7, 32)         0         \n",
            " 2D)                                                             \n",
            "                                                                 \n",
            " conv2d_9 (Conv2D)           (None, 7, 7, 64)          18496     \n",
            "                                                                 \n",
            " max_pooling2d_9 (MaxPooling  (None, 4, 4, 64)         0         \n",
            " 2D)                                                             \n",
            "                                                                 \n",
            " conv2d_10 (Conv2D)          (None, 4, 4, 128)         73856     \n",
            "                                                                 \n",
            " max_pooling2d_10 (MaxPoolin  (None, 2, 2, 128)        0         \n",
            " g2D)                                                            \n",
            "                                                                 \n",
            " flatten_2 (Flatten)         (None, 512)               0         \n",
            "                                                                 \n",
            " dense_5 (Dense)             (None, 64)                32832     \n",
            "                                                                 \n",
            " dense_6 (Dense)             (None, 32)                2080      \n",
            "                                                                 \n",
            " dense_7 (Dense)             (None, 7)                 231       \n",
            "                                                                 \n",
            "=================================================================\n",
            "Total params: 132,583\n",
            "Trainable params: 132,583\n",
            "Non-trainable params: 0\n",
            "_________________________________________________________________\n",
            "None\n"
          ]
        }
      ]
    },
    {
      "cell_type": "code",
      "source": [
        "early_stopping_callback = tf.keras.callbacks.EarlyStopping(\n",
        "    monitor='val_loss',\n",
        "    patience=10,\n",
        "    verbose=1, \n",
        "    mode='auto'\n",
        ")\n",
        "reduce_lr_callback = tf.keras.callbacks.ReduceLROnPlateau(\n",
        "    monitor='val_loss',\n",
        "    factor=0.1,\n",
        "    patience=3, \n",
        "    verbose=1,\n",
        "    mode='auto'\n",
        ")\n",
        "tensorboard_callback = tf.keras.callbacks.TensorBoard(log_dir=\"./logs\")"
      ],
      "metadata": {
        "id": "YVjMuhKd9J2v"
      },
      "execution_count": 25,
      "outputs": []
    },
    {
      "cell_type": "code",
      "source": [
        "normalization_layer = tf.keras.layers.Rescaling(1./255)\n",
        "normalized_train_ds = train_ds.map(lambda x, y: (normalization_layer(x), y))\n",
        "normalized_test_ds = val_ds.map(lambda x, y: (normalization_layer(x), y))\n",
        "\n",
        "model.fit(\n",
        "    normalized_train_ds,\n",
        "    validation_data=normalized_test_ds,\n",
        "    batch_size = 64,\n",
        "    epochs = 200,\n",
        "    callbacks = [early_stopping_callback, reduce_lr_callback, tensorboard_callback]\n",
        ")"
      ],
      "metadata": {
        "id": "l0rvQxQD9J43",
        "colab": {
          "base_uri": "https://localhost:8080/"
        },
        "outputId": "c3cfe018-2349-48a9-cfe2-39c5542baeb2"
      },
      "execution_count": 26,
      "outputs": [
        {
          "output_type": "stream",
          "name": "stdout",
          "text": [
            "Epoch 1/200\n",
            "399/399 [==============================] - 43s 105ms/step - loss: 1.0287 - accuracy: 0.6714 - val_loss: 1.0104 - val_accuracy: 0.6357 - lr: 0.0010\n",
            "Epoch 2/200\n",
            "399/399 [==============================] - 40s 97ms/step - loss: 0.9131 - accuracy: 0.6855 - val_loss: 0.9220 - val_accuracy: 0.6482 - lr: 0.0010\n",
            "Epoch 3/200\n",
            "399/399 [==============================] - 32s 79ms/step - loss: 0.8611 - accuracy: 0.6944 - val_loss: 0.8997 - val_accuracy: 0.6558 - lr: 0.0010\n",
            "Epoch 4/200\n",
            "399/399 [==============================] - 34s 83ms/step - loss: 0.8149 - accuracy: 0.7009 - val_loss: 0.8355 - val_accuracy: 0.6608 - lr: 0.0010\n",
            "Epoch 5/200\n",
            "399/399 [==============================] - 43s 106ms/step - loss: 0.7650 - accuracy: 0.7148 - val_loss: 0.7932 - val_accuracy: 0.6759 - lr: 0.0010\n",
            "Epoch 6/200\n",
            "399/399 [==============================] - 40s 98ms/step - loss: 0.7366 - accuracy: 0.7279 - val_loss: 0.7731 - val_accuracy: 0.6985 - lr: 0.0010\n",
            "Epoch 7/200\n",
            "399/399 [==============================] - 33s 82ms/step - loss: 0.6952 - accuracy: 0.7420 - val_loss: 0.8115 - val_accuracy: 0.6935 - lr: 0.0010\n",
            "Epoch 8/200\n",
            "399/399 [==============================] - 40s 99ms/step - loss: 0.6803 - accuracy: 0.7453 - val_loss: 0.7163 - val_accuracy: 0.7211 - lr: 0.0010\n",
            "Epoch 9/200\n",
            "399/399 [==============================] - 44s 110ms/step - loss: 0.6415 - accuracy: 0.7585 - val_loss: 0.7940 - val_accuracy: 0.7035 - lr: 0.0010\n",
            "Epoch 10/200\n",
            "399/399 [==============================] - 41s 100ms/step - loss: 0.6214 - accuracy: 0.7691 - val_loss: 0.7555 - val_accuracy: 0.7186 - lr: 0.0010\n",
            "Epoch 11/200\n",
            "399/399 [==============================] - 43s 104ms/step - loss: 0.5962 - accuracy: 0.7790 - val_loss: 0.7120 - val_accuracy: 0.7186 - lr: 0.0010\n",
            "Epoch 12/200\n",
            "399/399 [==============================] - 40s 99ms/step - loss: 0.5643 - accuracy: 0.7899 - val_loss: 0.7258 - val_accuracy: 0.7136 - lr: 0.0010\n",
            "Epoch 13/200\n",
            "399/399 [==============================] - 43s 106ms/step - loss: 0.5459 - accuracy: 0.7974 - val_loss: 0.8252 - val_accuracy: 0.6935 - lr: 0.0010\n",
            "Epoch 14/200\n",
            "399/399 [==============================] - ETA: 0s - loss: 0.5206 - accuracy: 0.8076\n",
            "Epoch 14: ReduceLROnPlateau reducing learning rate to 0.00010000000474974513.\n",
            "399/399 [==============================] - 37s 91ms/step - loss: 0.5206 - accuracy: 0.8076 - val_loss: 0.8527 - val_accuracy: 0.7010 - lr: 0.0010\n",
            "Epoch 15/200\n",
            "399/399 [==============================] - 33s 81ms/step - loss: 0.4360 - accuracy: 0.8434 - val_loss: 0.6732 - val_accuracy: 0.7538 - lr: 1.0000e-04\n",
            "Epoch 16/200\n",
            "399/399 [==============================] - 44s 108ms/step - loss: 0.3968 - accuracy: 0.8545 - val_loss: 0.6937 - val_accuracy: 0.7538 - lr: 1.0000e-04\n",
            "Epoch 17/200\n",
            "399/399 [==============================] - 34s 84ms/step - loss: 0.3794 - accuracy: 0.8611 - val_loss: 0.7047 - val_accuracy: 0.7563 - lr: 1.0000e-04\n",
            "Epoch 18/200\n",
            "398/399 [============================>.] - ETA: 0s - loss: 0.3657 - accuracy: 0.8686\n",
            "Epoch 18: ReduceLROnPlateau reducing learning rate to 1.0000000474974514e-05.\n",
            "399/399 [==============================] - 42s 105ms/step - loss: 0.3656 - accuracy: 0.8686 - val_loss: 0.7007 - val_accuracy: 0.7663 - lr: 1.0000e-04\n",
            "Epoch 19/200\n",
            "399/399 [==============================] - 43s 103ms/step - loss: 0.3518 - accuracy: 0.8768 - val_loss: 0.7043 - val_accuracy: 0.7638 - lr: 1.0000e-05\n",
            "Epoch 20/200\n",
            "399/399 [==============================] - 33s 82ms/step - loss: 0.3477 - accuracy: 0.8792 - val_loss: 0.7043 - val_accuracy: 0.7638 - lr: 1.0000e-05\n",
            "Epoch 21/200\n",
            "396/399 [============================>.] - ETA: 0s - loss: 0.3459 - accuracy: 0.8789\n",
            "Epoch 21: ReduceLROnPlateau reducing learning rate to 1.0000000656873453e-06.\n",
            "399/399 [==============================] - 35s 86ms/step - loss: 0.3453 - accuracy: 0.8793 - val_loss: 0.7066 - val_accuracy: 0.7638 - lr: 1.0000e-05\n",
            "Epoch 22/200\n",
            "399/399 [==============================] - 43s 106ms/step - loss: 0.3419 - accuracy: 0.8812 - val_loss: 0.7058 - val_accuracy: 0.7613 - lr: 1.0000e-06\n",
            "Epoch 23/200\n",
            "399/399 [==============================] - 35s 86ms/step - loss: 0.3416 - accuracy: 0.8810 - val_loss: 0.7052 - val_accuracy: 0.7613 - lr: 1.0000e-06\n",
            "Epoch 24/200\n",
            "399/399 [==============================] - ETA: 0s - loss: 0.3414 - accuracy: 0.8810\n",
            "Epoch 24: ReduceLROnPlateau reducing learning rate to 1.0000001111620805e-07.\n",
            "399/399 [==============================] - 32s 79ms/step - loss: 0.3414 - accuracy: 0.8810 - val_loss: 0.7049 - val_accuracy: 0.7613 - lr: 1.0000e-06\n",
            "Epoch 25/200\n",
            "399/399 [==============================] - 42s 104ms/step - loss: 0.3410 - accuracy: 0.8809 - val_loss: 0.7049 - val_accuracy: 0.7613 - lr: 1.0000e-07\n",
            "Epoch 25: early stopping\n"
          ]
        },
        {
          "output_type": "execute_result",
          "data": {
            "text/plain": [
              "<keras.callbacks.History at 0x7f9ba610eb50>"
            ]
          },
          "metadata": {},
          "execution_count": 26
        }
      ]
    },
    {
      "cell_type": "code",
      "source": [
        "model.save(\"skin_classifier_model.h5\")"
      ],
      "metadata": {
        "id": "szp6TrGOwdFz"
      },
      "execution_count": 27,
      "outputs": []
    },
    {
      "cell_type": "code",
      "source": [
        "# model_acc = model.evaluate(X_test, Y_test, verbose=0)[1]\n",
        "# print(\"Test Accuracy: {:.3f}%\".format(model_acc * 100))\n",
        "y_pred = model.predict(normalized_test_ds)\n",
        "y_pred = np.array(list(map(lambda x: np.argmax(x), y_pred)))\n",
        "# clr = classification_report(y_true, y_pred, target_names=label_mapping.values())\n",
        "# print(clr)"
      ],
      "metadata": {
        "id": "Yhx8XEaM9J85"
      },
      "execution_count": 33,
      "outputs": []
    },
    {
      "cell_type": "code",
      "source": [
        "y_true = np.array([])\n",
        "y_pred_ = np.array([])\n",
        "\n",
        "for x, y in normalized_test_ds:\n",
        "  y_pred = model.predict(x)\n",
        "  y_pred = np.array(list(map(lambda x: np.argmax(x), y_pred)))\n",
        "  y_true = np.concatenate((y_true, y.numpy()))\n",
        "  y_pred_ = np.concatenate((y_pred_, y_pred))"
      ],
      "metadata": {
        "id": "Xo4iqa1zEgEX"
      },
      "execution_count": 45,
      "outputs": []
    },
    {
      "cell_type": "code",
      "source": [
        "clr = classification_report(y_true, y_pred_, target_names=classes.keys())\n",
        "print(clr)"
      ],
      "metadata": {
        "colab": {
          "base_uri": "https://localhost:8080/"
        },
        "id": "9CW6oAZVx8C2",
        "outputId": "478d7d4c-2833-4449-da0e-511ca4d4e8d7"
      },
      "execution_count": 47,
      "outputs": [
        {
          "output_type": "stream",
          "name": "stdout",
          "text": [
            "              precision    recall  f1-score   support\n",
            "\n",
            "          nv       0.43      0.20      0.27        15\n",
            "         mel       0.42      0.55      0.48        20\n",
            "         bkl       0.50      0.50      0.50        36\n",
            "         bcc       0.00      0.00      0.00         4\n",
            "       akiec       0.65      0.42      0.51        62\n",
            "        vasc       0.85      0.94      0.89       253\n",
            "          df       0.78      0.88      0.82         8\n",
            "\n",
            "    accuracy                           0.76       398\n",
            "   macro avg       0.52      0.50      0.50       398\n",
            "weighted avg       0.74      0.76      0.74       398\n",
            "\n"
          ]
        },
        {
          "output_type": "stream",
          "name": "stderr",
          "text": [
            "/usr/local/lib/python3.7/dist-packages/sklearn/metrics/_classification.py:1318: UndefinedMetricWarning: Precision and F-score are ill-defined and being set to 0.0 in labels with no predicted samples. Use `zero_division` parameter to control this behavior.\n",
            "  _warn_prf(average, modifier, msg_start, len(result))\n",
            "/usr/local/lib/python3.7/dist-packages/sklearn/metrics/_classification.py:1318: UndefinedMetricWarning: Precision and F-score are ill-defined and being set to 0.0 in labels with no predicted samples. Use `zero_division` parameter to control this behavior.\n",
            "  _warn_prf(average, modifier, msg_start, len(result))\n",
            "/usr/local/lib/python3.7/dist-packages/sklearn/metrics/_classification.py:1318: UndefinedMetricWarning: Precision and F-score are ill-defined and being set to 0.0 in labels with no predicted samples. Use `zero_division` parameter to control this behavior.\n",
            "  _warn_prf(average, modifier, msg_start, len(result))\n"
          ]
        }
      ]
    },
    {
      "cell_type": "code",
      "source": [
        ""
      ],
      "metadata": {
        "id": "bEP7HsXw01uX"
      },
      "execution_count": null,
      "outputs": []
    }
  ]
}